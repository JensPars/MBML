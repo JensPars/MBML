{
  "cells": [
    {
      "cell_type": "code",
      "execution_count": null,
      "id": "c99dfebf",
      "metadata": {
        "colab": {
          "base_uri": "https://localhost:8080/"
        },
        "id": "c99dfebf",
        "outputId": "5e707a14-f069-4306-ad46-7b15eb618047"
      },
      "outputs": [
        {
          "name": "stderr",
          "output_type": "stream",
          "text": [
            "/opt/homebrew/Caskroom/miniconda/base/envs/bml/lib/python3.10/site-packages/tqdm/auto.py:21: TqdmWarning: IProgress not found. Please update jupyter and ipywidgets. See https://ipywidgets.readthedocs.io/en/stable/user_install.html\n",
            "  from .autonotebook import tqdm as notebook_tqdm\n"
          ]
        }
      ],
      "source": [
        "import pandas as pd\n",
        "import numpy as np\n",
        "import nltk\n",
        "from gensim.corpora import Dictionary\n",
        "import matplotlib.pyplot as plt\n",
        "from tqdm.auto import tqdm # Added tqdm\n",
        "\n",
        "import torch\n",
        "from torch import nn\n",
        "from torch.distributions import constraints\n",
        "import functools\n",
        "\n",
        "import pyro\n",
        "import pyro.distributions as dist\n",
        "from pyro.infer import SVI, JitTraceEnum_ELBO, TraceEnum_ELBO\n",
        "from pyro.contrib.autoguide import AutoDiagonalNormal, AutoMultivariateNormal, AutoGuideList, AutoDelta\n",
        "from pyro.optim import ClippedAdam\n",
        "\n",
        "# Import from local modules\n",
        "from preprocessing import preprocess_text, add_mask_column\n",
        "from lda_model import model, create_guide\n"
      ]
    },
    {
      "cell_type": "code",
      "execution_count": 2,
      "id": "d2ff8f56",
      "metadata": {
        "id": "d2ff8f56"
      },
      "outputs": [],
      "source": [
        "# Load the dataset\n",
        "df = pd.read_csv(\"tmdb_5000_movies.csv\")\n",
        "\n",
        "# Remove rows with missing values in the 'overview' column\n",
        "df.dropna(subset=['overview'], inplace=True)"
      ]
    },
    {
      "cell_type": "code",
      "execution_count": 3,
      "id": "fd5787a7",
      "metadata": {
        "colab": {
          "base_uri": "https://localhost:8080/"
        },
        "id": "fd5787a7",
        "outputId": "42f91c83-f4be-49f9-f4f0-762812bcdd3b"
      },
      "outputs": [],
      "source": [
        "# Apply to the DataFrame\n",
        "df['processed'] = df['overview'].apply(preprocess_text)\n",
        "\n",
        "# Create a dictionary and corpus for the processed text\n",
        "dictionary = Dictionary(df['processed'])\n",
        "\n",
        "# Map each list of tokens to a list of word indexes\n",
        "df['overview_indexed'] = df['processed'].apply(lambda tokens: dictionary.doc2idx(tokens))\n",
        "\n",
        "df['overview_length'] = df['overview_indexed'].apply(len)\n",
        "\n",
        "df = df[df['overview_length'] >= 20]\n",
        "\n",
        "# Create a mask column for the dataframe\n",
        "df = add_mask_column(df, 'overview_indexed', length=60, new_column_name=\"overview_masked\")\n"
      ]
    },
    {
      "cell_type": "code",
      "execution_count": 4,
      "id": "89a0c2ec",
      "metadata": {
        "colab": {
          "base_uri": "https://localhost:8080/",
          "height": 564
        },
        "id": "89a0c2ec",
        "outputId": "0342dad4-5e13-4f82-df6c-c6751e419487"
      },
      "outputs": [
        {
          "data": {
            "image/png": "[encoded data removed]",
            "text/plain": [
              "<Figure size 1000x600 with 1 Axes>"
            ]
          },
          "metadata": {},
          "output_type": "display_data"
        }
      ],
      "source": [
        "# Plot the histogram\n",
        "plt.figure(figsize=(10, 6))\n",
        "plt.hist(df['overview_length'], bins=20, edgecolor='black')\n",
        "plt.title('Histogram of Overview List Lengths')\n",
        "plt.xlabel('Length of List')\n",
        "plt.ylabel('Frequency')\n",
        "plt.grid(True)\n",
        "plt.show()"
      ]
    },
    {
      "cell_type": "code",
      "execution_count": 5,
      "id": "aea2f73d",
      "metadata": {
        "id": "aea2f73d"
      },
      "outputs": [],
      "source": [
        "W = df[\"overview_indexed\"]\n",
        "Mask = df[\"overview_masked\"]\n",
        "\n",
        "# Convert to a LongTensor (2D tensor)\n",
        "tensor_W = torch.tensor(W.tolist(), dtype=torch.long).T\n",
        "tensor_Mask = torch.tensor(Mask.tolist(), dtype=torch.bool).T"
      ]
    },
    {
      "cell_type": "code",
      "execution_count": null,
      "id": "30864eae",
      "metadata": {
        "id": "30864eae"
      },
      "outputs": [
        {
          "name": "stdout",
          "output_type": "stream",
          "text": [
            "Using device: cpu\n"
          ]
        },
        {
          "name": "stderr",
          "output_type": "stream",
          "text": [
            "  0%|          | 1/3000 [00:01<1:30:29,  1.81s/it]"
          ]
        },
        {
          "name": "stdout",
          "output_type": "stream",
          "text": [
            "[0] ELBO: 3441527.0\n"
          ]
        },
        {
          "name": "stderr",
          "output_type": "stream",
          "text": [
            "  3%|▎         | 101/3000 [01:05<30:14,  1.60it/s]"
          ]
        },
        {
          "name": "stdout",
          "output_type": "stream",
          "text": [
            "[100] ELBO: 3436375.5\n"
          ]
        },
        {
          "name": "stderr",
          "output_type": "stream",
          "text": [
            "  6%|▋         | 190/3000 [02:05<32:45,  1.43it/s]"
          ]
        }
      ],
      "source": [
        "from tqdm import tqdm\n",
        "import torch.profiler # Added for profiling\n",
        "\n",
        "device = torch.device(\"cuda\" if torch.cuda.is_available() else \"cpu\")\n",
        "#device = \"mps\" if torch.backends.mps.is_available() else device\n",
        "print(f\"Using device: {device}\")\n",
        "\n",
        "tensor_W = tensor_W.to(device)\n",
        "tensor_Mask = tensor_Mask.to(device)\n",
        "\n",
        "num_words = len(dictionary)\n",
        "num_topics = 20\n",
        "num_docs = 3236\n",
        "num_words_per_doc = 60\n",
        "\n",
        "pyro.clear_param_store()\n",
        "\n",
        "guide = create_guide(model, num_topics, num_words, num_docs, device=device)\n",
        "\n",
        "elbo = TraceEnum_ELBO(max_plate_nesting=3)\n",
        "\n",
        "optim = ClippedAdam({'lr': 0.0001})\n",
        "svi = SVI(lambda data, mask, batch_size: model(data, mask, batch_size, num_topics, num_words, num_docs, num_words_per_doc, device=device), guide, optim, elbo)\n",
        "\n",
        "# Define the number of optimization steps\n",
        "n_steps = 3000 # Reduced for profiling to get results faster, can be increased later\n",
        "\n",
        "for step in tqdm(range(n_steps)):\n",
        "    # with torch.profiler.record_function(\"svi_step_iteration\"):\n",
        "    elbo = svi.step(tensor_W, tensor_Mask, batch_size=16)\n",
        "    if step % 100 == 0:\n",
        "        tqdm.write(f\"[{step}] ELBO: {elbo:.1f}\")\n"
      ]
    },
    {
      "cell_type": "code",
      "execution_count": 11,
      "id": "ec237478",
      "metadata": {},
      "outputs": [
        {
          "name": "stdout",
          "output_type": "stream",
          "text": [
            "CPU time total (all events):\n",
            "-----------------  ------------  ------------  ------------  ------------  ------------  ------------  ------------  ------------  \n",
            "             Name    Self CPU %      Self CPU   CPU total %     CPU total  CPU time avg       CPU Mem  Self CPU Mem    # of Calls  \n",
            "-----------------  ------------  ------------  ------------  ------------  ------------  ------------  ------------  ------------  \n",
            "    ProfilerStep*       100.00%       3.430ms       100.00%       3.430ms       3.430ms           0 b           0 b             1  \n",
            "-----------------  ------------  ------------  ------------  ------------  ------------  ------------  ------------  ------------  \n",
            "Self CPU time total: 3.430ms\n",
            "\n",
            "\n",
            "CUDA time total (all events, if applicable):\n",
            "-----------------  ------------  ------------  ------------  ------------  ------------  ------------  ------------  ------------  \n",
            "             Name    Self CPU %      Self CPU   CPU total %     CPU total  CPU time avg       CPU Mem  Self CPU Mem    # of Calls  \n",
            "-----------------  ------------  ------------  ------------  ------------  ------------  ------------  ------------  ------------  \n",
            "    ProfilerStep*       100.00%       3.430ms       100.00%       3.430ms       3.430ms           0 b           0 b             1  \n",
            "-----------------  ------------  ------------  ------------  ------------  ------------  ------------  ------------  ------------  \n",
            "Self CPU time total: 3.430ms\n",
            "\n"
          ]
        }
      ],
      "source": [
        "print(\"CPU time total (all events):\")\n",
        "print(prof.key_averages().table(sort_by=\"cpu_time_total\", row_limit=None))\n",
        "\n",
        "print(\"\\nCUDA time total (all events, if applicable):\")\n",
        "print(prof.key_averages().table(sort_by=\"cuda_time_total\", row_limit=None))"
      ]
    },
    {
      "cell_type": "code",
      "execution_count": null,
      "id": "89f8cd28",
      "metadata": {
        "id": "89f8cd28"
      },
      "outputs": [],
      "source": [
        "pyro.clear_param_store()\n",
        "\n",
        "def my_local_guide(data=None, mask=None, batch_size=None):\n",
        "    topic_words_posterior = pyro.param(\n",
        "            \"topic_words_posterior\",\n",
        "            lambda: torch.ones(num_topics, num_words),\n",
        "            constraint=constraints.positive)\n",
        "\n",
        "    with pyro.plate(\"topics\", num_topics):\n",
        "        pyro.sample(\"topic_words\", dist.Dirichlet(topic_words_posterior))\n",
        "\n",
        "    doc_topics_posterior = pyro.param(\n",
        "            \"doc_topics_posterior\",\n",
        "            lambda: torch.ones(num_docs, num_topics),\n",
        "            constraint=constraints.simplex)\n",
        "\n",
        "    with pyro.plate(\"documents\", num_docs, batch_size) as ind:\n",
        "        pyro.sample(\"doc_topics\", dist.Delta(doc_topics_posterior[ind], event_dim=1))\n",
        "\n",
        "    #beta_means = pyro.param(\n",
        "    #        \"beta_means\",\n",
        "    #        lambda: torch.zeros(num_docs, num_words),\n",
        "\n",
        "    #beta = pyro.sample(\"beta\", pyro.Normal(beta_means, 1))\n",
        "\n",
        "\n",
        "guide = AutoGuideList(model)\n",
        "guide.add(AutoDiagonalNormal(pyro.poutine.block(model, expose=['doc_topics']))) # We add the weights variables here\n",
        "guide.add(my_local_guide)  # automatically wrapped in an AutoCallable\n",
        "\n",
        "guide = my_local_guide\n",
        "\n",
        "elbo = TraceEnum_ELBO(max_plate_nesting=3)\n",
        "\n",
        "optim = ClippedAdam({'lr': 0.005})\n",
        "svi = SVI(model, guide, optim, elbo)\n",
        "\n",
        "# Define the number of optimization steps\n",
        "n_steps = 2000\n",
        "\n",
        "# do gradient steps\n",
        "# Wrap range with tqdm for a progress bar\n",
        "for step in tqdm(range(n_steps)):\n",
        "    elbo = svi.step(tensor_W, tensor_Mask, batch_size=64)\n",
        "    if step % 100 == 0:\n",
        "        #print('.', end='')\n",
        "        # Update print statement to work with tqdm\n",
        "        tqdm.write(f\"[{step}] ELBO: {elbo:.1f}\")"
      ]
    },
    {
      "cell_type": "code",
      "execution_count": null,
      "id": "a6056570",
      "metadata": {
        "id": "a6056570"
      },
      "outputs": [],
      "source": [
        "pyro.get_param_store().save(\"model_params.pyro\")"
      ]
    }
  ],
  "metadata": {
    "colab": {
      "machine_shape": "hm",
      "provenance": []
    },
    "kernelspec": {
      "display_name": "bml",
      "language": "python",
      "name": "python3"
    },
    "language_info": {
      "codemirror_mode": {
        "name": "ipython",
        "version": 3
      },
      "file_extension": ".py",
      "mimetype": "text/x-python",
      "name": "python",
      "nbconvert_exporter": "python",
      "pygments_lexer": "ipython3",
      "version": "3.10.16"
    }
  },
  "nbformat": 4,
  "nbformat_minor": 5
}
