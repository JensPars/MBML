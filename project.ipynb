{
  "cells": [
    {
      "cell_type": "code",
      "source": [
        "# Uninstall existing numpy, gensim, and pandas forcefully\n",
        "!pip uninstall numpy gensim pandas -y\n",
        "\n",
        "# Reinstall numpy first. Using --no-cache-dir can sometimes help prevent caching issues.\n",
        "!pip install numpy --upgrade --no-deps --no-cache-dir\n",
        "\n",
        "# Reinstall gensim. This should now use the newly installed numpy during its setup.\n",
        "!pip install gensim --upgrade --no-cache-dir\n",
        "\n",
        "# Reinstall pandas, ensuring it uses the newly installed numpy\n",
        "!pip install pandas --upgrade --no-cache-dir\n",
        "\n",
        "# After running these commands, **RESTART YOUR PYTHON KERNEL**\n",
        "# Then, run your notebook cells from the beginning."
      ],
      "metadata": {
        "colab": {
          "base_uri": "https://localhost:8080/"
        },
        "id": "zrvpg5qKq2Xu",
        "outputId": "7b9905df-6e41-4a6b-d205-c65c4ec552c0"
      },
      "id": "zrvpg5qKq2Xu",
      "execution_count": 1,
      "outputs": [
        {
          "output_type": "stream",
          "name": "stdout",
          "text": [
            "Found existing installation: numpy 1.26.4\n",
            "Uninstalling numpy-1.26.4:\n",
            "  Successfully uninstalled numpy-1.26.4\n",
            "Found existing installation: gensim 4.3.3\n",
            "Uninstalling gensim-4.3.3:\n",
            "  Successfully uninstalled gensim-4.3.3\n",
            "Found existing installation: pandas 2.2.3\n",
            "Uninstalling pandas-2.2.3:\n",
            "  Successfully uninstalled pandas-2.2.3\n",
            "Collecting numpy\n",
            "  Downloading numpy-2.2.6-cp311-cp311-manylinux_2_17_x86_64.manylinux2014_x86_64.whl.metadata (62 kB)\n",
            "\u001b[2K     \u001b[90m━━━━━━━━━━━━━━━━━━━━━━━━━━━━━━━━━━━━━━━━\u001b[0m \u001b[32m62.0/62.0 kB\u001b[0m \u001b[31m3.2 MB/s\u001b[0m eta \u001b[36m0:00:00\u001b[0m\n",
            "\u001b[?25hDownloading numpy-2.2.6-cp311-cp311-manylinux_2_17_x86_64.manylinux2014_x86_64.whl (16.8 MB)\n",
            "\u001b[2K   \u001b[90m━━━━━━━━━━━━━━━━━━━━━━━━━━━━━━━━━━━━━━━━\u001b[0m \u001b[32m16.8/16.8 MB\u001b[0m \u001b[31m177.4 MB/s\u001b[0m eta \u001b[36m0:00:00\u001b[0m\n",
            "\u001b[?25hInstalling collected packages: numpy\n",
            "Successfully installed numpy-2.2.6\n",
            "Collecting gensim\n",
            "  Downloading gensim-4.3.3-cp311-cp311-manylinux_2_17_x86_64.manylinux2014_x86_64.whl.metadata (8.1 kB)\n",
            "Collecting numpy<2.0,>=1.18.5 (from gensim)\n",
            "  Downloading numpy-1.26.4-cp311-cp311-manylinux_2_17_x86_64.manylinux2014_x86_64.whl.metadata (61 kB)\n",
            "\u001b[2K     \u001b[90m━━━━━━━━━━━━━━━━━━━━━━━━━━━━━━━━━━━━━━━━\u001b[0m \u001b[32m61.0/61.0 kB\u001b[0m \u001b[31m5.2 MB/s\u001b[0m eta \u001b[36m0:00:00\u001b[0m\n",
            "\u001b[?25hRequirement already satisfied: scipy<1.14.0,>=1.7.0 in /usr/local/lib/python3.11/dist-packages (from gensim) (1.13.1)\n",
            "Requirement already satisfied: smart-open>=1.8.1 in /usr/local/lib/python3.11/dist-packages (from gensim) (7.1.0)\n",
            "Requirement already satisfied: wrapt in /usr/local/lib/python3.11/dist-packages (from smart-open>=1.8.1->gensim) (1.17.2)\n",
            "Downloading gensim-4.3.3-cp311-cp311-manylinux_2_17_x86_64.manylinux2014_x86_64.whl (26.7 MB)\n",
            "\u001b[2K   \u001b[90m━━━━━━━━━━━━━━━━━━━━━━━━━━━━━━━━━━━━━━━━\u001b[0m \u001b[32m26.7/26.7 MB\u001b[0m \u001b[31m300.3 MB/s\u001b[0m eta \u001b[36m0:00:00\u001b[0m\n",
            "\u001b[?25hDownloading numpy-1.26.4-cp311-cp311-manylinux_2_17_x86_64.manylinux2014_x86_64.whl (18.3 MB)\n",
            "\u001b[2K   \u001b[90m━━━━━━━━━━━━━━━━━━━━━━━━━━━━━━━━━━━━━━━━\u001b[0m \u001b[32m18.3/18.3 MB\u001b[0m \u001b[31m242.7 MB/s\u001b[0m eta \u001b[36m0:00:00\u001b[0m\n",
            "\u001b[?25hInstalling collected packages: numpy, gensim\n",
            "  Attempting uninstall: numpy\n",
            "    Found existing installation: numpy 2.2.6\n",
            "    Uninstalling numpy-2.2.6:\n",
            "      Successfully uninstalled numpy-2.2.6\n",
            "\u001b[31mERROR: pip's dependency resolver does not currently take into account all the packages that are installed. This behaviour is the source of the following dependency conflicts.\n",
            "dask-cuda 25.2.0 requires pandas>=1.3, which is not installed.\n",
            "mizani 0.13.5 requires pandas>=2.2.0, which is not installed.\n",
            "xarray 2025.3.1 requires pandas>=2.1, which is not installed.\n",
            "geopandas 1.0.1 requires pandas>=1.4.0, which is not installed.\n",
            "mlxtend 0.23.4 requires pandas>=0.24.2, which is not installed.\n",
            "bigframes 2.4.0 requires pandas>=1.5.3, which is not installed.\n",
            "pandas-gbq 0.28.1 requires pandas>=1.1.4, which is not installed.\n",
            "arviz 0.21.0 requires pandas>=1.5.0, which is not installed.\n",
            "cufflinks 0.17.3 requires pandas>=0.19.2, which is not installed.\n",
            "tensorflow-decision-forests 1.11.0 requires pandas, which is not installed.\n",
            "prophet 1.1.6 requires pandas>=1.0.4, which is not installed.\n",
            "shap 0.47.2 requires pandas, which is not installed.\n",
            "fastai 2.7.19 requires pandas, which is not installed.\n",
            "geemap 0.35.3 requires pandas, which is not installed.\n",
            "cudf-cu12 25.2.1 requires pandas<2.2.4dev0,>=2.0, which is not installed.\n",
            "pymc 5.22.0 requires pandas>=0.24.0, which is not installed.\n",
            "dask-cudf-cu12 25.2.2 requires pandas<2.2.4dev0,>=2.0, which is not installed.\n",
            "dopamine-rl 4.1.2 requires pandas>=0.24.2, which is not installed.\n",
            "libpysal 4.13.0 requires pandas>=1.4, which is not installed.\n",
            "holoviews 1.20.2 requires pandas>=1.3, which is not installed.\n",
            "cmdstanpy 1.2.5 requires pandas, which is not installed.\n",
            "bokeh 3.7.3 requires pandas>=1.2, which is not installed.\n",
            "bqplot 0.12.44 requires pandas<3.0.0,>=1.0.0, which is not installed.\n",
            "plotnine 0.14.5 requires pandas>=2.2.0, which is not installed.\n",
            "datascience 0.17.6 requires pandas, which is not installed.\n",
            "datasets 2.14.4 requires pandas, which is not installed.\n",
            "statsmodels 0.14.4 requires pandas!=2.1.0,>=1.4, which is not installed.\n",
            "tsfresh 0.21.0 requires pandas>=0.25.0, which is not installed.\n",
            "yfinance 0.2.61 requires pandas>=1.3.0, which is not installed.\n",
            "sklearn-pandas 2.2.0 requires pandas>=1.1.4, which is not installed.\n",
            "seaborn 0.13.2 requires pandas>=1.2, which is not installed.\n",
            "db-dtypes 1.4.3 requires pandas>=1.5.3, which is not installed.\n",
            "thinc 8.3.6 requires numpy<3.0.0,>=2.0.0, but you have numpy 1.26.4 which is incompatible.\n",
            "tsfresh 0.21.0 requires scipy>=1.14.0; python_version >= \"3.10\", but you have scipy 1.13.1 which is incompatible.\u001b[0m\u001b[31m\n",
            "\u001b[0mSuccessfully installed gensim-4.3.3 numpy-1.26.4\n",
            "Collecting pandas\n",
            "  Downloading pandas-2.2.3-cp311-cp311-manylinux_2_17_x86_64.manylinux2014_x86_64.whl.metadata (89 kB)\n",
            "\u001b[2K     \u001b[90m━━━━━━━━━━━━━━━━━━━━━━━━━━━━━━━━━━━━━━━━\u001b[0m \u001b[32m89.9/89.9 kB\u001b[0m \u001b[31m4.1 MB/s\u001b[0m eta \u001b[36m0:00:00\u001b[0m\n",
            "\u001b[?25hRequirement already satisfied: numpy>=1.23.2 in /usr/local/lib/python3.11/dist-packages (from pandas) (1.26.4)\n",
            "Requirement already satisfied: python-dateutil>=2.8.2 in /usr/local/lib/python3.11/dist-packages (from pandas) (2.9.0.post0)\n",
            "Requirement already satisfied: pytz>=2020.1 in /usr/local/lib/python3.11/dist-packages (from pandas) (2025.2)\n",
            "Requirement already satisfied: tzdata>=2022.7 in /usr/local/lib/python3.11/dist-packages (from pandas) (2025.2)\n",
            "Requirement already satisfied: six>=1.5 in /usr/local/lib/python3.11/dist-packages (from python-dateutil>=2.8.2->pandas) (1.17.0)\n",
            "Downloading pandas-2.2.3-cp311-cp311-manylinux_2_17_x86_64.manylinux2014_x86_64.whl (13.1 MB)\n",
            "\u001b[2K   \u001b[90m━━━━━━━━━━━━━━━━━━━━━━━━━━━━━━━━━━━━━━━━\u001b[0m \u001b[32m13.1/13.1 MB\u001b[0m \u001b[31m246.5 MB/s\u001b[0m eta \u001b[36m0:00:00\u001b[0m\n",
            "\u001b[?25hInstalling collected packages: pandas\n",
            "\u001b[31mERROR: pip's dependency resolver does not currently take into account all the packages that are installed. This behaviour is the source of the following dependency conflicts.\n",
            "google-colab 1.0.0 requires pandas==2.2.2, but you have pandas 2.2.3 which is incompatible.\n",
            "tsfresh 0.21.0 requires scipy>=1.14.0; python_version >= \"3.10\", but you have scipy 1.13.1 which is incompatible.\u001b[0m\u001b[31m\n",
            "\u001b[0mSuccessfully installed pandas-2.2.3\n"
          ]
        }
      ]
    },
    {
      "cell_type": "code",
      "source": [
        "!pip3 install pyro-ppl"
      ],
      "metadata": {
        "colab": {
          "base_uri": "https://localhost:8080/"
        },
        "id": "ueq6hq90swn4",
        "outputId": "6df7bcca-2be1-4959-e314-f39179758f9c"
      },
      "id": "ueq6hq90swn4",
      "execution_count": 2,
      "outputs": [
        {
          "output_type": "stream",
          "name": "stdout",
          "text": [
            "Requirement already satisfied: pyro-ppl in /usr/local/lib/python3.11/dist-packages (1.9.1)\n",
            "Requirement already satisfied: numpy>=1.7 in /usr/local/lib/python3.11/dist-packages (from pyro-ppl) (1.26.4)\n",
            "Requirement already satisfied: opt-einsum>=2.3.2 in /usr/local/lib/python3.11/dist-packages (from pyro-ppl) (3.4.0)\n",
            "Requirement already satisfied: pyro-api>=0.1.1 in /usr/local/lib/python3.11/dist-packages (from pyro-ppl) (0.1.2)\n",
            "Requirement already satisfied: torch>=2.0 in /usr/local/lib/python3.11/dist-packages (from pyro-ppl) (2.6.0+cu124)\n",
            "Requirement already satisfied: tqdm>=4.36 in /usr/local/lib/python3.11/dist-packages (from pyro-ppl) (4.67.1)\n",
            "Requirement already satisfied: filelock in /usr/local/lib/python3.11/dist-packages (from torch>=2.0->pyro-ppl) (3.18.0)\n",
            "Requirement already satisfied: typing-extensions>=4.10.0 in /usr/local/lib/python3.11/dist-packages (from torch>=2.0->pyro-ppl) (4.13.2)\n",
            "Requirement already satisfied: networkx in /usr/local/lib/python3.11/dist-packages (from torch>=2.0->pyro-ppl) (3.4.2)\n",
            "Requirement already satisfied: jinja2 in /usr/local/lib/python3.11/dist-packages (from torch>=2.0->pyro-ppl) (3.1.6)\n",
            "Requirement already satisfied: fsspec in /usr/local/lib/python3.11/dist-packages (from torch>=2.0->pyro-ppl) (2025.3.2)\n",
            "Requirement already satisfied: nvidia-cuda-nvrtc-cu12==12.4.127 in /usr/local/lib/python3.11/dist-packages (from torch>=2.0->pyro-ppl) (12.4.127)\n",
            "Requirement already satisfied: nvidia-cuda-runtime-cu12==12.4.127 in /usr/local/lib/python3.11/dist-packages (from torch>=2.0->pyro-ppl) (12.4.127)\n",
            "Requirement already satisfied: nvidia-cuda-cupti-cu12==12.4.127 in /usr/local/lib/python3.11/dist-packages (from torch>=2.0->pyro-ppl) (12.4.127)\n",
            "Requirement already satisfied: nvidia-cudnn-cu12==9.1.0.70 in /usr/local/lib/python3.11/dist-packages (from torch>=2.0->pyro-ppl) (9.1.0.70)\n",
            "Requirement already satisfied: nvidia-cublas-cu12==12.4.5.8 in /usr/local/lib/python3.11/dist-packages (from torch>=2.0->pyro-ppl) (12.4.5.8)\n",
            "Requirement already satisfied: nvidia-cufft-cu12==11.2.1.3 in /usr/local/lib/python3.11/dist-packages (from torch>=2.0->pyro-ppl) (11.2.1.3)\n",
            "Requirement already satisfied: nvidia-curand-cu12==10.3.5.147 in /usr/local/lib/python3.11/dist-packages (from torch>=2.0->pyro-ppl) (10.3.5.147)\n",
            "Requirement already satisfied: nvidia-cusolver-cu12==11.6.1.9 in /usr/local/lib/python3.11/dist-packages (from torch>=2.0->pyro-ppl) (11.6.1.9)\n",
            "Requirement already satisfied: nvidia-cusparse-cu12==12.3.1.170 in /usr/local/lib/python3.11/dist-packages (from torch>=2.0->pyro-ppl) (12.3.1.170)\n",
            "Requirement already satisfied: nvidia-cusparselt-cu12==0.6.2 in /usr/local/lib/python3.11/dist-packages (from torch>=2.0->pyro-ppl) (0.6.2)\n",
            "Requirement already satisfied: nvidia-nccl-cu12==2.21.5 in /usr/local/lib/python3.11/dist-packages (from torch>=2.0->pyro-ppl) (2.21.5)\n",
            "Requirement already satisfied: nvidia-nvtx-cu12==12.4.127 in /usr/local/lib/python3.11/dist-packages (from torch>=2.0->pyro-ppl) (12.4.127)\n",
            "Requirement already satisfied: nvidia-nvjitlink-cu12==12.4.127 in /usr/local/lib/python3.11/dist-packages (from torch>=2.0->pyro-ppl) (12.4.127)\n",
            "Requirement already satisfied: triton==3.2.0 in /usr/local/lib/python3.11/dist-packages (from torch>=2.0->pyro-ppl) (3.2.0)\n",
            "Requirement already satisfied: sympy==1.13.1 in /usr/local/lib/python3.11/dist-packages (from torch>=2.0->pyro-ppl) (1.13.1)\n",
            "Requirement already satisfied: mpmath<1.4,>=1.1.0 in /usr/local/lib/python3.11/dist-packages (from sympy==1.13.1->torch>=2.0->pyro-ppl) (1.3.0)\n",
            "Requirement already satisfied: MarkupSafe>=2.0 in /usr/local/lib/python3.11/dist-packages (from jinja2->torch>=2.0->pyro-ppl) (3.0.2)\n"
          ]
        }
      ]
    },
    {
      "cell_type": "markdown",
      "source": [],
      "metadata": {
        "id": "GCKnkDzrq0U3"
      },
      "id": "GCKnkDzrq0U3"
    },
    {
      "cell_type": "code",
      "execution_count": 3,
      "id": "c99dfebf",
      "metadata": {
        "colab": {
          "base_uri": "https://localhost:8080/"
        },
        "id": "c99dfebf",
        "outputId": "5e707a14-f069-4306-ad46-7b15eb618047"
      },
      "outputs": [
        {
          "output_type": "stream",
          "name": "stderr",
          "text": [
            "[nltk_data] Downloading package punkt to /root/nltk_data...\n",
            "[nltk_data]   Package punkt is already up-to-date!\n",
            "[nltk_data] Downloading package punkt_tab to /root/nltk_data...\n",
            "[nltk_data]   Package punkt_tab is already up-to-date!\n",
            "[nltk_data] Downloading package stopwords to /root/nltk_data...\n",
            "[nltk_data]   Package stopwords is already up-to-date!\n"
          ]
        },
        {
          "output_type": "execute_result",
          "data": {
            "text/plain": [
              "True"
            ]
          },
          "metadata": {},
          "execution_count": 3
        }
      ],
      "source": [
        "import pandas as pd\n",
        "import numpy as np\n",
        "import nltk\n",
        "from nltk.corpus import stopwords\n",
        "from nltk.stem import PorterStemmer\n",
        "from nltk.tokenize import word_tokenize\n",
        "import string\n",
        "from gensim.corpora import Dictionary\n",
        "import matplotlib.pyplot as plt\n",
        "\n",
        "import torch\n",
        "from torch import nn\n",
        "from torch.distributions import constraints\n",
        "import functools\n",
        "\n",
        "import pyro\n",
        "import pyro.distributions as dist\n",
        "from pyro.infer import SVI, JitTraceEnum_ELBO, TraceEnum_ELBO\n",
        "from pyro.contrib.autoguide import AutoDiagonalNormal, AutoMultivariateNormal, AutoGuideList, AutoDelta\n",
        "from pyro.optim import ClippedAdam\n",
        "\n",
        "# Download required resources\n",
        "nltk.download('punkt')\n",
        "nltk.download('punkt_tab')\n",
        "nltk.download('stopwords')\n"
      ]
    },
    {
      "cell_type": "code",
      "execution_count": 4,
      "id": "0b5587a9",
      "metadata": {
        "id": "0b5587a9"
      },
      "outputs": [],
      "source": [
        "# Initialize tools\n",
        "stop_words = set(stopwords.words('english'))\n",
        "stemmer = PorterStemmer()\n",
        "punctuation = set(string.punctuation)\n",
        "\n",
        "# Define the preprocessing function\n",
        "def preprocess_text(text):\n",
        "    tokens = word_tokenize(text.lower())  # Tokenize and lowercase\n",
        "    tokens = [word for word in tokens if word.isalpha()]  # Remove punctuation and numbers\n",
        "    tokens = [word for word in tokens if word not in stop_words]  # Remove stop words\n",
        "    tokens = [stemmer.stem(word) for word in tokens]  # Stem the words\n",
        "    return tokens\n",
        "\n",
        "def add_mask_column(df, column_name, length, new_column_name='masked_list'):\n",
        "    def pad_and_create_mask(lst):\n",
        "        # Truncate if list is longer than the specified length\n",
        "        truncated = lst[:length]\n",
        "\n",
        "        # Create mask: 1s for actual values, 0s for padding\n",
        "        mask = [1] * len(truncated)\n",
        "        padding_length = max(0, length - len(truncated))\n",
        "        mask += [0] * padding_length\n",
        "\n",
        "        # Pad list with 0s if shorter than desired length\n",
        "        padded_lst = truncated + [0] * padding_length\n",
        "\n",
        "        return padded_lst, mask\n",
        "\n",
        "    # Apply padding and mask creation\n",
        "    result = df[column_name].apply(pad_and_create_mask)\n",
        "    df[column_name] = result.apply(lambda x: x[0])  # overwrite with padded/truncated list\n",
        "    df[new_column_name] = result.apply(lambda x: x[1])  # add mask column\n",
        "    return df"
      ]
    },
    {
      "cell_type": "code",
      "execution_count": 5,
      "id": "d2ff8f56",
      "metadata": {
        "id": "d2ff8f56"
      },
      "outputs": [],
      "source": [
        "# Load the dataset\n",
        "df = pd.read_csv(\"tmdb_5000_movies.csv\")\n",
        "\n",
        "# Remove rows with missing values in the 'overview' column\n",
        "df.dropna(subset=['overview'], inplace=True)"
      ]
    },
    {
      "cell_type": "code",
      "execution_count": 6,
      "id": "fd5787a7",
      "metadata": {
        "id": "fd5787a7",
        "colab": {
          "base_uri": "https://localhost:8080/"
        },
        "outputId": "42f91c83-f4be-49f9-f4f0-762812bcdd3b"
      },
      "outputs": [
        {
          "output_type": "stream",
          "name": "stderr",
          "text": [
            "<ipython-input-4-d5367321cdd7>:31: SettingWithCopyWarning: \n",
            "A value is trying to be set on a copy of a slice from a DataFrame.\n",
            "Try using .loc[row_indexer,col_indexer] = value instead\n",
            "\n",
            "See the caveats in the documentation: https://pandas.pydata.org/pandas-docs/stable/user_guide/indexing.html#returning-a-view-versus-a-copy\n",
            "  df[column_name] = result.apply(lambda x: x[0])  # overwrite with padded/truncated list\n",
            "<ipython-input-4-d5367321cdd7>:32: SettingWithCopyWarning: \n",
            "A value is trying to be set on a copy of a slice from a DataFrame.\n",
            "Try using .loc[row_indexer,col_indexer] = value instead\n",
            "\n",
            "See the caveats in the documentation: https://pandas.pydata.org/pandas-docs/stable/user_guide/indexing.html#returning-a-view-versus-a-copy\n",
            "  df[new_column_name] = result.apply(lambda x: x[1])  # add mask column\n"
          ]
        }
      ],
      "source": [
        "# Apply to the DataFrame\n",
        "df['processed'] = df['overview'].apply(preprocess_text)\n",
        "\n",
        "# Create a dictionary and corpus for the processed text\n",
        "dictionary = Dictionary(df['processed'])\n",
        "\n",
        "# Map each list of tokens to a list of word indexes\n",
        "df['overview_indexed'] = df['processed'].apply(lambda tokens: dictionary.doc2idx(tokens))\n",
        "\n",
        "df['overview_length'] = df['overview_indexed'].apply(len)\n",
        "\n",
        "df = df[df['overview_length'] >= 20]\n",
        "\n",
        "# Create a mask column for the dataframe\n",
        "df = add_mask_column(df, 'overview_indexed', length=60, new_column_name=\"overview_masked\")\n"
      ]
    },
    {
      "cell_type": "code",
      "execution_count": 7,
      "id": "89a0c2ec",
      "metadata": {
        "id": "89a0c2ec",
        "outputId": "0342dad4-5e13-4f82-df6c-c6751e419487",
        "colab": {
          "base_uri": "https://localhost:8080/",
          "height": 564
        }
      },
      "outputs": [
        {
          "output_type": "display_data",
          "data": {
            "text/plain": [
              "<Figure size 1000x600 with 1 Axes>"
            ],
            "image/png": "[encoded data removed]"
          },
          "metadata": {}
        }
      ],
      "source": [
        "# Plot the histogram\n",
        "plt.figure(figsize=(10, 6))\n",
        "plt.hist(df['overview_length'], bins=20, edgecolor='black')\n",
        "plt.title('Histogram of Overview List Lengths')\n",
        "plt.xlabel('Length of List')\n",
        "plt.ylabel('Frequency')\n",
        "plt.grid(True)\n",
        "plt.show()"
      ]
    },
    {
      "cell_type": "code",
      "execution_count": 8,
      "id": "aea2f73d",
      "metadata": {
        "id": "aea2f73d"
      },
      "outputs": [],
      "source": [
        "W = df[\"overview_indexed\"]\n",
        "Mask = df[\"overview_masked\"]\n",
        "\n",
        "# Convert to a LongTensor (2D tensor)\n",
        "tensor_W = torch.tensor(W.tolist(), dtype=torch.long).T\n",
        "tensor_Mask = torch.tensor(Mask.tolist(), dtype=torch.bool).T"
      ]
    },
    {
      "cell_type": "code",
      "execution_count": 9,
      "id": "30864eae",
      "metadata": {
        "id": "30864eae"
      },
      "outputs": [],
      "source": [
        "num_words = len(dictionary)\n",
        "num_topics = 20\n",
        "num_docs = 3236\n",
        "num_words_per_doc = 60"
      ]
    },
    {
      "cell_type": "code",
      "execution_count": 10,
      "id": "1f3dbba4",
      "metadata": {
        "id": "1f3dbba4"
      },
      "outputs": [],
      "source": [
        "def model(data=None, mask=None, batch_size=None):\n",
        "    \"\"\"LDA model with masking for variable-length documents.\"\"\"\n",
        "    with pyro.plate(\"topics\", num_topics):\n",
        "        topic_words = pyro.sample(\n",
        "            \"topic_words\", dist.Dirichlet(torch.ones(num_words) / num_words)\n",
        "        )\n",
        "\n",
        "    with pyro.plate(\"documents\", num_docs, batch_size) as ind:\n",
        "        data = data[:, ind]  # data: [max_words, batch_size]\n",
        "        if mask is not None:\n",
        "            mask = mask[:, ind]  # same shape as data\n",
        "\n",
        "        doc_topics = pyro.sample(\n",
        "            \"doc_topics\", dist.Dirichlet(torch.ones(num_topics) / num_topics)\n",
        "        )\n",
        "\n",
        "        with pyro.plate(\"words\", num_words_per_doc):\n",
        "            with pyro.poutine.mask(mask=mask):\n",
        "                word_topics = pyro.sample(\n",
        "                    \"word_topics\", dist.Categorical(doc_topics),\n",
        "                    infer={\"enumerate\": \"parallel\"}\n",
        "                )\n",
        "\n",
        "                doc_words = pyro.sample(\n",
        "                    \"doc_words\",\n",
        "                    dist.Categorical(topic_words[word_topics]),\n",
        "                    obs=data\n",
        "                )\n",
        "\n",
        "    return topic_words, doc_words"
      ]
    },
    {
      "cell_type": "code",
      "execution_count": null,
      "id": "89f8cd28",
      "metadata": {
        "id": "89f8cd28"
      },
      "outputs": [],
      "source": [
        "pyro.clear_param_store()\n",
        "\n",
        "def my_local_guide(data=None, mask=None, batch_size=None):\n",
        "    topic_words_posterior = pyro.param(\n",
        "            \"topic_words_posterior\",\n",
        "            lambda: torch.ones(num_topics, num_words),\n",
        "            constraint=constraints.positive)\n",
        "\n",
        "    with pyro.plate(\"topics\", num_topics):\n",
        "        pyro.sample(\"topic_words\", dist.Dirichlet(topic_words_posterior))\n",
        "\n",
        "    doc_topics_posterior = pyro.param(\n",
        "            \"doc_topics_posterior\",\n",
        "            lambda: torch.ones(num_docs, num_topics),\n",
        "            constraint=constraints.simplex)\n",
        "\n",
        "    with pyro.plate(\"documents\", num_docs, batch_size) as ind:\n",
        "        pyro.sample(\"doc_topics\", dist.Delta(doc_topics_posterior[ind], event_dim=1))\n",
        "\n",
        "    #beta_means = pyro.param(\n",
        "    #        \"beta_means\",\n",
        "    #        lambda: torch.zeros(num_docs, num_words),\n",
        "\n",
        "    #beta = pyro.sample(\"beta\", pyro.Normal(beta_means, 1))\n",
        "\n",
        "\n",
        "guide = AutoGuideList(model)\n",
        "guide.add(AutoDiagonalNormal(pyro.poutine.block(model, expose=['doc_topics']))) # We add the weights variables here\n",
        "guide.add(my_local_guide)  # automatically wrapped in an AutoCallable\n",
        "\n",
        "guide = my_local_guide\n",
        "\n",
        "elbo = TraceEnum_ELBO(max_plate_nesting=3)\n",
        "\n",
        "optim = ClippedAdam({'lr': 0.005})\n",
        "svi = SVI(model, guide, optim, elbo)\n",
        "\n",
        "# Define the number of optimization steps\n",
        "n_steps = 2000\n",
        "\n",
        "# do gradient steps\n",
        "for step in range(n_steps):\n",
        "    elbo = svi.step(tensor_W, tensor_Mask, batch_size=64)\n",
        "    if step % 100 == 0:\n",
        "        #print('.', end='')\n",
        "        print(\"[%d] ELBO: %.1f\" % (step, elbo))"
      ]
    },
    {
      "cell_type": "code",
      "execution_count": null,
      "id": "a6056570",
      "metadata": {
        "id": "a6056570"
      },
      "outputs": [],
      "source": [
        "pyro.get_param_store().save(\"model_params.pyro\")"
      ]
    }
  ],
  "metadata": {
    "kernelspec": {
      "display_name": "Python 3",
      "name": "python3"
    },
    "language_info": {
      "codemirror_mode": {
        "name": "ipython",
        "version": 3
      },
      "file_extension": ".py",
      "mimetype": "text/x-python",
      "name": "python",
      "nbconvert_exporter": "python",
      "pygments_lexer": "ipython3",
      "version": "3.11.11"
    },
    "colab": {
      "provenance": [],
      "machine_shape": "hm"
    }
  },
  "nbformat": 4,
  "nbformat_minor": 5
}