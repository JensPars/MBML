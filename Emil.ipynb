{
 "cells": [
  {
   "cell_type": "code",
   "execution_count": 62,
   "id": "4612e5e9",
   "metadata": {},
   "outputs": [
    {
     "name": "stderr",
     "output_type": "stream",
     "text": [
      "[nltk_data] Downloading package punkt to\n",
      "[nltk_data]     C:\\Users\\emilk\\AppData\\Roaming\\nltk_data...\n",
      "[nltk_data]   Package punkt is already up-to-date!\n",
      "[nltk_data] Downloading package punkt_tab to\n",
      "[nltk_data]     C:\\Users\\emilk\\AppData\\Roaming\\nltk_data...\n",
      "[nltk_data]   Package punkt_tab is already up-to-date!\n",
      "[nltk_data] Downloading package stopwords to\n",
      "[nltk_data]     C:\\Users\\emilk\\AppData\\Roaming\\nltk_data...\n",
      "[nltk_data]   Package stopwords is already up-to-date!\n"
     ]
    },
    {
     "data": {
      "text/plain": [
       "True"
      ]
     },
     "execution_count": 62,
     "metadata": {},
     "output_type": "execute_result"
    }
   ],
   "source": [
    "import pandas as pd\n",
    "import numpy as np\n",
    "import nltk\n",
    "from nltk.corpus import stopwords\n",
    "from nltk.stem import PorterStemmer\n",
    "from nltk.tokenize import word_tokenize\n",
    "import string\n",
    "from gensim.corpora import Dictionary\n",
    "import matplotlib.pyplot as plt\n",
    "from sklearn.feature_extraction.text import CountVectorizer\n",
    "\n",
    "import torch\n",
    "from torch import nn\n",
    "from torch.distributions import constraints\n",
    "import functools\n",
    "\n",
    "import pyro\n",
    "import pyro.distributions as dist\n",
    "from pyro.infer import SVI, JitTraceEnum_ELBO, TraceEnum_ELBO\n",
    "from pyro.contrib.autoguide import AutoDiagonalNormal, AutoMultivariateNormal, AutoGuideList, AutoDelta\n",
    "from pyro.optim import ClippedAdam\n",
    "\n",
    "# Download required resources\n",
    "nltk.download('punkt')\n",
    "nltk.download('punkt_tab')\n",
    "nltk.download('stopwords')"
   ]
  },
  {
   "cell_type": "code",
   "execution_count": 63,
   "id": "2d5eadef",
   "metadata": {},
   "outputs": [],
   "source": [
    "# Load the dataset and drop nans\n",
    "df = pd.read_csv(\"tmdb_5000_movies.csv\")\n",
    "df.dropna(subset=['overview'], inplace=True)"
   ]
  },
  {
   "cell_type": "code",
   "execution_count": 64,
   "id": "048ef6bc",
   "metadata": {},
   "outputs": [
    {
     "data": {
      "text/plain": [
       "'In the 22nd century, a paraplegic Marine is dispatched to the moon Pandora on a unique mission, but becomes torn between following orders and protecting an alien civilization.'"
      ]
     },
     "execution_count": 64,
     "metadata": {},
     "output_type": "execute_result"
    }
   ],
   "source": [
    "df.loc[0, 'overview']"
   ]
  },
  {
   "cell_type": "code",
   "execution_count": 65,
   "id": "f112485b",
   "metadata": {},
   "outputs": [],
   "source": [
    "MAX_WORDS = 1000\n",
    "\n",
    "vectorizer = CountVectorizer(\n",
    "    max_df=0.95, min_df=2, max_features=MAX_WORDS, stop_words=\"english\"\n",
    ")\n",
    "\n",
    "def VectorizeText(text, vectorizer):\n",
    "    X_count = vectorizer.fit_transform(df['overview'])\n",
    "    list_of_word_indices_per_doc = []\n",
    "    if hasattr(X_count, 'indptr'): # Check if it's likely CSR or similar\n",
    "        for i in range(X_count.shape[0]): # Iterate through each document/row\n",
    "            word_indices_for_doc_i = X_count[i].indices\n",
    "            list_of_word_indices_per_doc.append(word_indices_for_doc_i.tolist())\n",
    "\n",
    "    return list_of_word_indices_per_doc\n",
    "\n",
    "def add_mask_column(df, column_name, length, new_column_name='masked_list'):\n",
    "    def pad_and_create_mask(lst):\n",
    "        # Truncate if list is longer than the specified length\n",
    "        truncated = lst[:length]\n",
    "        \n",
    "        # Create mask: 1s for actual values, 0s for padding\n",
    "        mask = [1] * len(truncated)\n",
    "        padding_length = max(0, length - len(truncated))\n",
    "        mask += [0] * padding_length\n",
    "\n",
    "        # Pad list with 0s if shorter than desired length\n",
    "        padded_lst = truncated + [0] * padding_length\n",
    "\n",
    "        return padded_lst, mask\n",
    "\n",
    "    # Apply padding and mask creation\n",
    "    result = df[column_name].apply(pad_and_create_mask)\n",
    "    df[column_name] = result.apply(lambda x: x[0])  # overwrite with padded/truncated list\n",
    "    df[new_column_name] = result.apply(lambda x: x[1])  # add mask column\n",
    "    return df\n",
    "\n",
    "def get_words(index_list, vectorizer):\n",
    "    words = []\n",
    "    for i in index_list:\n",
    "        words.append(vectorizer.get_feature_names_out()[i])\n",
    "    return words"
   ]
  },
  {
   "cell_type": "code",
   "execution_count": 66,
   "id": "47ee0d9d",
   "metadata": {},
   "outputs": [
    {
     "data": {
      "text/plain": [
       "(4800, 22)"
      ]
     },
     "execution_count": 66,
     "metadata": {},
     "output_type": "execute_result"
    }
   ],
   "source": [
    "# Create index lists of words for each document\n",
    "list_of_word_indices_per_doc = VectorizeText(df['overview'], vectorizer)\n",
    "df[\"overview_indexed\"] = list_of_word_indices_per_doc\n",
    "df['overview_length'] = df['overview_indexed'].apply(len)\n",
    "df.shape"
   ]
  },
  {
   "cell_type": "code",
   "execution_count": null,
   "id": "bc64d85f",
   "metadata": {},
   "outputs": [],
   "source": [
    "print(list_of_word_indices_per_doc[0])\n",
    "print(get_words(list_of_word_indices_per_doc[0], vectorizer))"
   ]
  },
  {
   "cell_type": "code",
   "execution_count": 67,
   "id": "2eb5c0e2",
   "metadata": {},
   "outputs": [
    {
     "data": {
      "image/png": "[encoded data removed]",
      "text/plain": [
       "<Figure size 1000x600 with 1 Axes>"
      ]
     },
     "metadata": {},
     "output_type": "display_data"
    }
   ],
   "source": [
    "# Plot the histogram\n",
    "plt.figure(figsize=(10, 6))\n",
    "plt.hist(df['overview_length'], bins=20, edgecolor='black')\n",
    "plt.title('Histogram of Overview List Lengths')\n",
    "plt.xlabel('Length of List')\n",
    "plt.ylabel('Frequency')\n",
    "plt.grid(True)\n",
    "plt.show()"
   ]
  },
  {
   "cell_type": "code",
   "execution_count": 76,
   "id": "e2df1468",
   "metadata": {},
   "outputs": [],
   "source": [
    "NUM_WORDS = MAX_WORDS\n",
    "NUM_DOCS = df.shape[0]\n",
    "NUM_TOPICS = 10\n",
    "NUM_WORDS_PER_DOC = 50"
   ]
  },
  {
   "cell_type": "code",
   "execution_count": 77,
   "id": "5dacd110",
   "metadata": {},
   "outputs": [
    {
     "name": "stdout",
     "output_type": "stream",
     "text": [
      "4800\n"
     ]
    }
   ],
   "source": [
    "print(NUM_DOCS)"
   ]
  },
  {
   "cell_type": "code",
   "execution_count": 81,
   "id": "e780079d",
   "metadata": {},
   "outputs": [],
   "source": [
    "# Create a mask column for the dataframe\n",
    "df = add_mask_column(df, 'overview_indexed', length=NUM_WORDS_PER_DOC, new_column_name=\"overview_masked\")"
   ]
  },
  {
   "cell_type": "code",
   "execution_count": 82,
   "id": "0b9c818c",
   "metadata": {},
   "outputs": [],
   "source": [
    "W = df[\"overview_indexed\"]\n",
    "Mask = df[\"overview_masked\"]\n",
    "\n",
    "# Convert to a LongTensor (2D tensor)\n",
    "tensor_W = torch.tensor(W.tolist(), dtype=torch.long).T\n",
    "tensor_Mask = torch.tensor(Mask.tolist(), dtype=torch.bool).T"
   ]
  },
  {
   "cell_type": "code",
   "execution_count": 83,
   "id": "5d75547d",
   "metadata": {},
   "outputs": [
    {
     "name": "stdout",
     "output_type": "stream",
     "text": [
      "torch.Size([50, 4800])\n",
      "torch.Size([50, 4800])\n"
     ]
    }
   ],
   "source": [
    "print(tensor_W.shape)\n",
    "print(tensor_Mask.shape)"
   ]
  },
  {
   "cell_type": "code",
   "execution_count": 84,
   "id": "6d6434fb",
   "metadata": {},
   "outputs": [],
   "source": [
    "def model(data=None, mask=None, batch_size=None):\n",
    "    \"\"\"LDA model with masking for variable-length documents.\"\"\"\n",
    "    with pyro.plate(\"topics\", NUM_TOPICS):\n",
    "        topic_words = pyro.sample(\n",
    "            \"topic_words\", dist.Dirichlet(torch.ones(NUM_WORDS) / NUM_WORDS)\n",
    "        )\n",
    "\n",
    "    with pyro.plate(\"documents\", NUM_DOCS, batch_size) as ind:\n",
    "        data = data[:, ind]  # data: [max_words, batch_size]\n",
    "        if mask is not None:\n",
    "            mask = mask[:, ind]  # same shape as data\n",
    "\n",
    "        doc_topics = pyro.sample(\n",
    "            \"doc_topics\", dist.Dirichlet(torch.ones(NUM_TOPICS) / NUM_TOPICS)\n",
    "        )\n",
    "\n",
    "        with pyro.plate(\"words\", NUM_WORDS_PER_DOC):\n",
    "            with pyro.poutine.mask(mask=mask):\n",
    "                word_topics = pyro.sample(\n",
    "                    \"word_topics\", dist.Categorical(doc_topics),\n",
    "                    infer={\"enumerate\": \"parallel\"}\n",
    "                )\n",
    "\n",
    "                doc_words = pyro.sample(\n",
    "                    \"doc_words\",\n",
    "                    dist.Categorical(topic_words[word_topics]),\n",
    "                    obs=data\n",
    "                )\n",
    "\n",
    "    return topic_words, doc_words"
   ]
  },
  {
   "cell_type": "code",
   "execution_count": null,
   "id": "51e0b99c",
   "metadata": {},
   "outputs": [
    {
     "name": "stdout",
     "output_type": "stream",
     "text": [
      "[0] ELBO: 1807146.8\n",
      "[100] ELBO: 1593094.4\n",
      "[200] ELBO: 1408744.4\n",
      "[300] ELBO: 1297420.5\n",
      "[400] ELBO: 1137940.8\n",
      "[500] ELBO: 944185.5\n",
      "[600] ELBO: 848327.4\n",
      "[700] ELBO: 751294.8\n",
      "[800] ELBO: 716028.4\n",
      "[900] ELBO: 725454.5\n",
      "[1000] ELBO: 683065.1\n",
      "[1100] ELBO: 621368.3\n",
      "[1200] ELBO: 655314.1\n",
      "[1300] ELBO: 656318.2\n",
      "[1400] ELBO: 614256.1\n",
      "[1500] ELBO: 681933.1\n",
      "[1600] ELBO: 634278.3\n",
      "[1700] ELBO: 632767.2\n",
      "[1800] ELBO: 626580.4\n",
      "[1900] ELBO: 682529.2\n",
      "[2000] ELBO: 756475.1\n",
      "[2100] ELBO: 714492.1\n",
      "[2200] ELBO: 756131.0\n",
      "[2300] ELBO: 712502.6\n",
      "[2400] ELBO: 673958.8\n",
      "[2500] ELBO: 821819.0\n",
      "[2600] ELBO: 791957.8\n",
      "[2700] ELBO: 837567.2\n",
      "[2800] ELBO: 739876.1\n",
      "[2900] ELBO: 760841.1\n",
      "[3000] ELBO: 724078.4\n",
      "[3100] ELBO: 781463.1\n",
      "[3200] ELBO: 778474.4\n",
      "[3300] ELBO: 795278.3\n",
      "[3400] ELBO: 716411.9\n",
      "[3500] ELBO: 804758.7\n",
      "[3600] ELBO: 894710.8\n",
      "[3700] ELBO: 810113.1\n",
      "[3800] ELBO: 852703.9\n"
     ]
    }
   ],
   "source": [
    "pyro.clear_param_store()\n",
    "\n",
    "def my_local_guide(data=None, mask=None, batch_size=None):\n",
    "    topic_words_posterior = pyro.param(\n",
    "            \"topic_words_posterior\",\n",
    "            lambda: torch.ones(NUM_TOPICS, NUM_WORDS),\n",
    "            constraint=constraints.positive)\n",
    "    \n",
    "    with pyro.plate(\"topics\", NUM_TOPICS):\n",
    "        pyro.sample(\"topic_words\", dist.Dirichlet(topic_words_posterior))\n",
    "    \n",
    "    doc_topics_posterior = pyro.param(\n",
    "            \"doc_topics_posterior\",\n",
    "            lambda: torch.ones(NUM_DOCS, NUM_TOPICS),\n",
    "            constraint=constraints.simplex)\n",
    "    \n",
    "    with pyro.plate(\"documents\", NUM_DOCS, batch_size) as ind:\n",
    "        pyro.sample(\"doc_topics\", dist.Delta(doc_topics_posterior[ind], event_dim=1))\n",
    "\n",
    "\n",
    "guide = my_local_guide\n",
    "\n",
    "elbo = TraceEnum_ELBO(max_plate_nesting=3)\n",
    "\n",
    "optim = ClippedAdam({'lr': 0.005})\n",
    "svi = SVI(model, guide, optim, elbo)\n",
    "\n",
    "# Define the number of optimization steps\n",
    "n_steps = 4000\n",
    "\n",
    "# do gradient steps\n",
    "for step in range(n_steps):\n",
    "    elbo = svi.step(tensor_W, tensor_Mask, batch_size=32)\n",
    "    if step % 100 == 0:\n",
    "        #print('.', end='')\n",
    "        print(\"[%d] ELBO: %.1f\" % (step, elbo))"
   ]
  },
  {
   "cell_type": "code",
   "execution_count": null,
   "id": "2904d054",
   "metadata": {},
   "outputs": [],
   "source": [
    "from pyro.infer import Predictive\n",
    "\n",
    "predictive = Predictive(model, guide=guide, num_samples=100,\n",
    "                        return_sites=(\"topic_words\",))\n",
    "samples = predictive(tensor_W,\n",
    "                     tensor_Mask,\n",
    "                     batch_size=4)\n",
    "\n",
    "topics = samples[\"topic_words\"]\n",
    "topics = topics[:, 0].mean(axis=0)"
   ]
  },
  {
   "cell_type": "code",
   "execution_count": null,
   "id": "7969dfa1",
   "metadata": {},
   "outputs": [],
   "source": [
    "feature_names = vectorizer.get_feature_names_out()\n",
    "for i in range(NUM_TOPICS):\n",
    "    topic = topics[i]\n",
    "    top_10 = topic.argsort(descending=True)[:10]\n",
    "    top_words = [feature_names[int(idx)] for idx in top_10]\n",
    "    print(f\"Top 10 words for Topic {i}:\")\n",
    "    for i in range(10):\n",
    "        print(f\"{i+1}: {top_words[i]}\")"
   ]
  }
 ],
 "metadata": {
  "kernelspec": {
   "display_name": "mbm",
   "language": "python",
   "name": "python3"
  },
  "language_info": {
   "codemirror_mode": {
    "name": "ipython",
    "version": 3
   },
   "file_extension": ".py",
   "mimetype": "text/x-python",
   "name": "python",
   "nbconvert_exporter": "python",
   "pygments_lexer": "ipython3",
   "version": "3.11.11"
  }
 },
 "nbformat": 4,
 "nbformat_minor": 5
}
